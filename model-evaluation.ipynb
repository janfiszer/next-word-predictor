{
 "cells": [
  {
   "cell_type": "code",
   "execution_count": 16,
   "metadata": {},
   "outputs": [],
   "source": [
    "# essentials\n",
    "import matplotlib.pyplot as plt\n",
    "import numpy as np\n",
    "import pandas as pd\n",
    "import pickle\n",
    "import os\n",
    "\n",
    "import tensorflow as tf\n",
    "\n",
    "import config\n",
    "from utils.DataGenerator import DataGenerator"
   ]
  },
  {
   "attachments": {},
   "cell_type": "markdown",
   "metadata": {},
   "source": [
    "## Loading models and vocabulary"
   ]
  },
  {
   "cell_type": "code",
   "execution_count": 17,
   "metadata": {},
   "outputs": [],
   "source": [
    "model = tf.keras.models.load_model(config.NN_MODEL_DIR + \"model-acc17-loss5.63.h5\")"
   ]
  },
  {
   "cell_type": "code",
   "execution_count": 18,
   "metadata": {},
   "outputs": [
    {
     "name": "stdout",
     "output_type": "stream",
     "text": [
      "Keras model archive loading:\n",
      "File Name                                             Modified             Size\n",
      "config.json                                    2023-04-24 13:40:08         3580\n",
      "metadata.json                                  2023-04-24 13:40:08           64\n",
      "variables.h5                                   2023-04-24 13:40:08     28680888\n",
      "Keras weights file (<HDF5 file \"variables.h5\" (mode r)>) loading:\n",
      "...layers\\dense\n",
      "......vars\n",
      ".........0\n",
      ".........1\n",
      "...layers\\dense_1\n",
      "......vars\n",
      ".........0\n",
      ".........1\n",
      "...layers\\dense_2\n",
      "......vars\n",
      ".........0\n",
      ".........1\n",
      "...layers\\dense_3\n",
      "......vars\n",
      ".........0\n",
      ".........1\n",
      "...layers\\dense_4\n",
      "......vars\n",
      ".........0\n",
      ".........1\n",
      "...layers\\dropout\n",
      "......vars\n",
      "...layers\\dropout_1\n",
      "......vars\n",
      "...metrics\\mean\n",
      "......vars\n",
      ".........0\n",
      ".........1\n",
      "...metrics\\mean_metric_wrapper\n",
      "......vars\n",
      ".........0\n",
      ".........1\n",
      "...optimizer\n",
      "......vars\n",
      ".........0\n",
      ".........1\n",
      ".........10\n",
      ".........11\n",
      ".........12\n",
      ".........13\n",
      ".........14\n",
      ".........15\n",
      ".........16\n",
      ".........17\n",
      ".........18\n",
      ".........19\n",
      ".........2\n",
      ".........20\n",
      ".........3\n",
      ".........4\n",
      ".........5\n",
      ".........6\n",
      ".........7\n",
      ".........8\n",
      ".........9\n",
      "...vars\n"
     ]
    }
   ],
   "source": [
    "with open(os.path.join(config.NN_MODEL_DIR, \"vocabulary.pkl\"), 'rb') as file:\n",
    "    vocabulary = pickle.load(file)\n",
    "\n",
    "with open(\"models/word2vecs/whole-dataset-win7-vec200-min20.pkl\", 'rb') as file:\n",
    "    word2vec = pickle.load(file)\n",
    "\n",
    "with open(os.path.join(config.NN_MODEL_DIR, \"training_logs.pkl\"), 'rb') as file:\n",
    "    training_logs = pickle.load(file)\n"
   ]
  },
  {
   "cell_type": "markdown",
   "metadata": {
    "collapsed": false
   },
   "source": [
    "## Learning curve"
   ]
  },
  {
   "cell_type": "code",
   "execution_count": 19,
   "metadata": {
    "collapsed": false,
    "pycharm": {
     "name": "#%%\n"
    }
   },
   "outputs": [
    {
     "data": {
      "text/plain": "[<matplotlib.lines.Line2D at 0x2de09897f40>]"
     },
     "execution_count": 19,
     "metadata": {},
     "output_type": "execute_result"
    },
    {
     "data": {
      "text/plain": "<Figure size 640x480 with 1 Axes>",
      "image/png": "[encoded data removed]"
     },
     "metadata": {},
     "output_type": "display_data"
    }
   ],
   "source": [
    "# due to early stopping executed epochs might be different\n",
    "executed_epochs = len(training_logs.history[\"loss\"])\n",
    "\n",
    "plt.plot(range(executed_epochs), training_logs.history[\"loss\"])\n",
    "plt.plot(range(executed_epochs), training_logs.history[\"val_loss\"])"
   ]
  },
  {
   "attachments": {},
   "cell_type": "markdown",
   "metadata": {},
   "source": [
    "## Evaluation "
   ]
  },
  {
   "cell_type": "code",
   "execution_count": 20,
   "metadata": {},
   "outputs": [],
   "source": [
    "reviews_df = pd.read_csv(\"data/reviews_cleaned_sample.csv\", converters={'tokenized': pd.eval})"
   ]
  },
  {
   "cell_type": "code",
   "execution_count": 21,
   "metadata": {},
   "outputs": [],
   "source": [
    "sample_index = 1\n",
    "\n",
    "sample_reviews = reviews_df.tokenized.iloc[sample_index:sample_index+2]"
   ]
  },
  {
   "cell_type": "code",
   "execution_count": 22,
   "metadata": {},
   "outputs": [],
   "source": [
    "data_gen = DataGenerator(sample_reviews, vocabulary=vocabulary)"
   ]
  },
  {
   "cell_type": "code",
   "execution_count": 23,
   "metadata": {},
   "outputs": [],
   "source": [
    "X_words, y_words = data_gen.create_dataset(config.PREVIOUS_WORDS_CONSIDERED)\n",
    "embedded_words = data_gen.vectorize(X_words, word2vec, input_size=config.INPUT_SIZE)"
   ]
  },
  {
   "cell_type": "code",
   "execution_count": 24,
   "metadata": {},
   "outputs": [],
   "source": [
    "y_preds = model.predict(embedded_words, verbose=0)\n",
    "\n",
    "num_proposed_words = 5\n",
    "vocabulary_size = len(vocabulary)"
   ]
  },
  {
   "cell_type": "code",
   "execution_count": 25,
   "metadata": {},
   "outputs": [],
   "source": [
    "pwc_and_predicted = []\n",
    "\n",
    "for index in range(len(X_words)):\n",
    "    y_pred = y_preds[index]\n",
    "\n",
    "    predicted_indices = np.argsort(y_pred).reshape(vocabulary_size)[-num_proposed_words:]\n",
    "    probabilities = np.sort(y_pred).reshape(vocabulary_size)[-num_proposed_words:]\n",
    "\n",
    "    predicted_probability = {vocabulary[index]: prob for index, prob in zip(predicted_indices, probabilities)}\n",
    "    \n",
    "    pwc_and_predicted.append((X_words[index], y_words[index], predicted_probability))"
   ]
  },
  {
   "cell_type": "code",
   "execution_count": 27,
   "metadata": {},
   "outputs": [
    {
     "name": "stdout",
     "output_type": "stream",
     "text": [
      "of the general...\n",
      "PREDICTED:\n",
      "                      films: 45%\n",
      "                         in: 51%\n",
      "                        the: 53%\n",
      "                         of: 62%\n",
      "                        and: 75%\n",
      "\n",
      "the general public...\n",
      "PREDICTED:\n",
      "                         is: 72%\n",
      "                         in: 74%\n",
      "                         to: 77%\n",
      "                         of: 79%\n",
      "                        and: 82%\n",
      "\n",
      "general public actually...\n",
      "PREDICTED:\n",
      "                         is: 55%\n",
      "                          i: 55%\n",
      "                          a: 65%\n",
      "                         as: 67%\n",
      "                        the: 72%\n",
      "\n",
      "public actually more...\n",
      "PREDICTED:\n",
      "                  realistic: 33%\n",
      "                      about: 39%\n",
      "                  important: 40%\n",
      "                interesting: 56%\n",
      "                       than: 92%\n",
      "\n",
      "actually more important...\n",
      "PREDICTED:\n",
      "                      films: 44%\n",
      "                        but: 51%\n",
      "                         to: 53%\n",
      "                        and: 75%\n",
      "                       than: 90%\n",
      "\n"
     ]
    }
   ],
   "source": [
    "pwc_and_predicted_sample = pwc_and_predicted[3:8]\n",
    "\n",
    "for tokens, _, predicted_words in pwc_and_predicted_sample:\n",
    "    text = \" \".join(tokens)\n",
    "\n",
    "    print(text + \"...\")\n",
    "    print(\"PREDICTED:\")\n",
    "\n",
    "    for word, probability in predicted_words.items():\n",
    "        print(\"       {: >20}: {}%\".format(word, int(probability*100)))\n",
    "\n",
    "    print()"
   ]
  }
 ],
 "metadata": {
  "kernelspec": {
   "display_name": "nlp",
   "language": "python",
   "name": "python3"
  },
  "language_info": {
   "codemirror_mode": {
    "name": "ipython",
    "version": 3
   },
   "file_extension": ".py",
   "mimetype": "text/x-python",
   "name": "python",
   "nbconvert_exporter": "python",
   "pygments_lexer": "ipython3",
   "version": "3.9.16"
  },
  "orig_nbformat": 4
 },
 "nbformat": 4,
 "nbformat_minor": 2
}