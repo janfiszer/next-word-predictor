{
 "cells": [
  {
   "cell_type": "code",
   "execution_count": 23,
   "metadata": {},
   "outputs": [],
   "source": [
    "# essentials\n",
    "import matplotlib.pyplot as plt\n",
    "import numpy as np\n",
    "import pandas as pd\n",
    "import pickle\n",
    "import os\n",
    "\n",
    "import tensorflow as tf\n",
    "\n",
    "import config\n",
    "from utils.DataGenerator import DataGenerator"
   ]
  },
  {
   "attachments": {},
   "cell_type": "markdown",
   "metadata": {},
   "source": [
    "## Loading models and vocabulary"
   ]
  },
  {
   "cell_type": "code",
   "execution_count": 24,
   "metadata": {},
   "outputs": [],
   "source": [
    "model = tf.keras.models.load_model(config.MODEL_DIR + \"model-acc17-loss5.57.h5\")"
   ]
  },
  {
   "cell_type": "code",
   "execution_count": 25,
   "metadata": {},
   "outputs": [
    {
     "name": "stdout",
     "output_type": "stream",
     "text": [
      "Keras model archive loading:\n",
      "File Name                                             Modified             Size\n",
      "config.json                                    2023-04-28 18:27:26         2463\n",
      "metadata.json                                  2023-04-28 18:27:26           64\n",
      "variables.h5                                   2023-04-28 18:27:26      5013616\n",
      "Keras weights file (<HDF5 file \"variables.h5\" (mode r)>) loading:\n",
      "...layers\\dense\n",
      "......vars\n",
      ".........0\n",
      ".........1\n",
      "...layers\\lstm\n",
      "......vars\n",
      "...layers\\lstm\\cell\n",
      "......vars\n",
      ".........0\n",
      ".........1\n",
      ".........2\n",
      "...metrics\\mean\n",
      "......vars\n",
      ".........0\n",
      ".........1\n",
      "...metrics\\mean_metric_wrapper\n",
      "......vars\n",
      ".........0\n",
      ".........1\n",
      "...optimizer\n",
      "......vars\n",
      ".........0\n",
      ".........1\n",
      ".........10\n",
      ".........2\n",
      ".........3\n",
      ".........4\n",
      ".........5\n",
      ".........6\n",
      ".........7\n",
      ".........8\n",
      ".........9\n",
      "...vars\n"
     ]
    },
    {
     "data": {
      "text/plain": [
       "<function IPython.core.display_functions.clear_output(wait=False)>"
      ]
     },
     "execution_count": 25,
     "metadata": {},
     "output_type": "execute_result"
    }
   ],
   "source": [
    "with open(os.path.join(config.MODEL_DIR, \"vocabulary.pkl\"), 'rb') as file:\n",
    "    vocabulary = pickle.load(file)\n",
    "\n",
    "with open(\"trained_models/word2vecs/whole-dataset-win7-vec200-min20.pkl\", 'rb') as file:\n",
    "    word2vec = pickle.load(file)\n",
    "\n",
    "with open(os.path.join(config.MODEL_DIR, \"training_logs.pkl\"), 'rb') as file:\n",
    "    training_logs = pickle.load(file)"
   ]
  },
  {
   "cell_type": "markdown",
   "metadata": {
    "collapsed": false
   },
   "source": [
    "## Learning curve"
   ]
  },
  {
   "cell_type": "code",
   "execution_count": 26,
   "metadata": {
    "collapsed": false,
    "pycharm": {
     "name": "#%%\n"
    }
   },
   "outputs": [
    {
     "data": {
      "text/plain": [
       "[<matplotlib.lines.Line2D at 0x25511a45070>]"
      ]
     },
     "execution_count": 26,
     "metadata": {},
     "output_type": "execute_result"
    },
    {
     "data": {
      "image/png": "[encoded data removed]",
      "text/plain": [
       "<Figure size 640x480 with 1 Axes>"
      ]
     },
     "metadata": {},
     "output_type": "display_data"
    }
   ],
   "source": [
    "# due to early stopping executed epochs might be different\n",
    "executed_epochs = len(training_logs.history[\"loss\"])\n",
    "\n",
    "plt.plot(range(executed_epochs), training_logs.history[\"loss\"])\n",
    "plt.plot(range(executed_epochs), training_logs.history[\"val_loss\"])"
   ]
  },
  {
   "attachments": {},
   "cell_type": "markdown",
   "metadata": {},
   "source": [
    "## Evaluation "
   ]
  },
  {
   "cell_type": "code",
   "execution_count": 27,
   "metadata": {},
   "outputs": [],
   "source": [
    "reviews_df = pd.read_csv(\"data/reviews_cleaned_sample.csv\", converters={'tokenized': pd.eval})"
   ]
  },
  {
   "cell_type": "code",
   "execution_count": 28,
   "metadata": {},
   "outputs": [],
   "source": [
    "sample_index = 1\n",
    "\n",
    "sample_reviews = reviews_df.tokenized.iloc[sample_index:sample_index+2]"
   ]
  },
  {
   "cell_type": "code",
   "execution_count": 29,
   "metadata": {},
   "outputs": [],
   "source": [
    "data_gen = DataGenerator(sample_reviews, vocabulary=vocabulary)"
   ]
  },
  {
   "cell_type": "code",
   "execution_count": 30,
   "metadata": {},
   "outputs": [],
   "source": [
    "X_words, y_words = data_gen.create_dataset(config.PREVIOUS_WORDS_CONSIDERED)\n",
    "embedded_words = data_gen.vectorize(X_words, word2vec, input_size=(config.PREVIOUS_WORDS_CONSIDERED, config.VECTOR_SIZE))"
   ]
  },
  {
   "cell_type": "code",
   "execution_count": 31,
   "metadata": {},
   "outputs": [],
   "source": [
    "y_preds = model.predict(embedded_words, verbose=0)\n",
    "\n",
    "num_proposed_words = 5\n",
    "vocabulary_size = len(vocabulary)"
   ]
  },
  {
   "cell_type": "code",
   "execution_count": 32,
   "metadata": {},
   "outputs": [],
   "source": [
    "pwc_and_predicted = []\n",
    "\n",
    "for index in range(len(X_words)):\n",
    "    y_pred = y_preds[index]\n",
    "\n",
    "    predicted_indices = np.argsort(y_pred).reshape(vocabulary_size)[-num_proposed_words:]\n",
    "    probabilities = np.sort(y_pred).reshape(vocabulary_size)[-num_proposed_words:]\n",
    "\n",
    "    predicted_probability = {vocabulary[index]: prob for index, prob in zip(predicted_indices, probabilities)}\n",
    "    \n",
    "    pwc_and_predicted.append((X_words[index], y_words[index], predicted_probability))"
   ]
  },
  {
   "cell_type": "code",
   "execution_count": 33,
   "metadata": {},
   "outputs": [
    {
     "name": "stdout",
     "output_type": "stream",
     "text": [
      "of the general public actually...\n",
      "PREDICTED:\n",
      "                         of: 87%\n",
      "                         as: 92%\n",
      "                          a: 93%\n",
      "                        the: 94%\n",
      "                         is: 94%\n",
      "\n",
      "the general public actually more...\n",
      "PREDICTED:\n",
      "                         as: 90%\n",
      "                interesting: 91%\n",
      "                         to: 94%\n",
      "                         of: 97%\n",
      "                       than: 99%\n",
      "\n",
      "general public actually more important...\n",
      "PREDICTED:\n",
      "                       this: 88%\n",
      "                          a: 89%\n",
      "                         to: 94%\n",
      "                       than: 95%\n",
      "                        the: 97%\n",
      "\n",
      "public actually more important than...\n",
      "PREDICTED:\n",
      "                       most: 94%\n",
      "                       that: 96%\n",
      "                          a: 97%\n",
      "                       this: 98%\n",
      "                        the: 99%\n",
      "\n",
      "of all ages the following...\n",
      "PREDICTED:\n",
      "                          i: 84%\n",
      "                       this: 86%\n",
      "                         is: 87%\n",
      "                        the: 93%\n",
      "                         of: 94%\n",
      "\n"
     ]
    }
   ],
   "source": [
    "pwc_and_predicted_sample = pwc_and_predicted[3:8]\n",
    "\n",
    "for tokens, _, predicted_words in pwc_and_predicted_sample:\n",
    "    text = \" \".join(tokens)\n",
    "\n",
    "    print(text + \"...\")\n",
    "    print(\"PREDICTED:\")\n",
    "\n",
    "    for word, probability in predicted_words.items():\n",
    "        print(\"       {: >20}: {}%\".format(word, int(probability*100)))\n",
    "\n",
    "    print()"
   ]
  }
 ],
 "metadata": {
  "kernelspec": {
   "display_name": "nlp",
   "language": "python",
   "name": "python3"
  },
  "language_info": {
   "codemirror_mode": {
    "name": "ipython",
    "version": 3
   },
   "file_extension": ".py",
   "mimetype": "text/x-python",
   "name": "python",
   "nbconvert_exporter": "python",
   "pygments_lexer": "ipython3",
   "version": "3.9.16"
  },
  "orig_nbformat": 4
 },
 "nbformat": 4,
 "nbformat_minor": 2
}
