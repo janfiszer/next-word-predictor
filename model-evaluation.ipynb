{
 "cells": [
  {
   "cell_type": "code",
   "execution_count": 4,
   "metadata": {},
   "outputs": [],
   "source": [
    "# essentials\n",
    "import matplotlib.pyplot as plt\n",
    "import numpy as np\n",
    "import pandas as pd\n",
    "import pickle\n",
    "import os\n",
    "\n",
    "import tensorflow as tf\n",
    "\n",
    "import config\n",
    "from utils.DataGenerator import DataGenerator"
   ]
  },
  {
   "attachments": {},
   "cell_type": "markdown",
   "metadata": {},
   "source": [
    "## Loading models and vocabulary"
   ]
  },
  {
   "cell_type": "code",
   "execution_count": 5,
   "metadata": {},
   "outputs": [],
   "source": [
    "model = tf.keras.models.load_model(config.NN_MODEL_DIR + \"model-acc16-loss4.91.h5\")"
   ]
  },
  {
   "cell_type": "code",
   "execution_count": null,
   "metadata": {},
   "outputs": [],
   "source": [
    "with open(\"vocabularies/vocabulary_small.pkl\", 'rb') as file:\n",
    "    vocabulary = pickle.load(file)\n",
    "\n",
    "with open(\"models/word2vecs/whole-dataset-win7-vec200-min20.pkl\", 'rb') as file:\n",
    "    word2vec = pickle.load(file)\n",
    "\n",
    "with open(os.path.join(config.NN_MODEL_DIR, \"training_logs.pkl\"), 'rb') as file:\n",
    "    training_logs = pickle.load(file)"
   ]
  },
  {
   "cell_type": "markdown",
   "metadata": {
    "collapsed": false
   },
   "source": [
    "## Learning curve"
   ]
  },
  {
   "cell_type": "code",
   "execution_count": 7,
   "metadata": {
    "collapsed": false,
    "pycharm": {
     "name": "#%%\n"
    }
   },
   "outputs": [
    {
     "data": {
      "text/plain": [
       "[<matplotlib.lines.Line2D at 0x25e943a0d90>]"
      ]
     },
     "execution_count": 7,
     "metadata": {},
     "output_type": "execute_result"
    },
    {
     "data": {
      "image/png": "[encoded data removed]",
      "text/plain": [
       "<Figure size 640x480 with 1 Axes>"
      ]
     },
     "metadata": {},
     "output_type": "display_data"
    }
   ],
   "source": [
    "# due to early stopping executed epochs might be different\n",
    "executed_epochs = len(training_logs.history[\"loss\"])\n",
    "\n",
    "plt.plot(range(executed_epochs), training_logs.history[\"loss\"])\n",
    "plt.plot(range(executed_epochs), training_logs.history[\"val_loss\"])"
   ]
  },
  {
   "attachments": {},
   "cell_type": "markdown",
   "metadata": {},
   "source": [
    "## Evaluation "
   ]
  },
  {
   "cell_type": "code",
   "execution_count": 8,
   "metadata": {},
   "outputs": [],
   "source": [
    "reviews_df = pd.read_csv(\"data/reviews_cleaned_sample.csv\", converters={'tokenized': pd.eval})"
   ]
  },
  {
   "cell_type": "code",
   "execution_count": 9,
   "metadata": {},
   "outputs": [],
   "source": [
    "sample_index = 1\n",
    "\n",
    "sample_reviews = reviews_df.tokenized.iloc[sample_index:sample_index+2]"
   ]
  },
  {
   "cell_type": "code",
   "execution_count": 10,
   "metadata": {},
   "outputs": [],
   "source": [
    "data_gen = DataGenerator(sample_reviews, vocabulary=vocabulary)"
   ]
  },
  {
   "cell_type": "code",
   "execution_count": 11,
   "metadata": {},
   "outputs": [],
   "source": [
    "X_words, y_words = data_gen.create_dataset(config.PREVIOUS_WORDS_CONSIDERED)\n",
    "embedded_words = data_gen.vectorize(X_words, word2vec, input_size=config.INPUT_SIZE)"
   ]
  },
  {
   "cell_type": "code",
   "execution_count": 12,
   "metadata": {},
   "outputs": [
    {
     "name": "stdout",
     "output_type": "stream",
     "text": [
      "5/5 [==============================] - 0s 6ms/step\b\b\b\b\b\b\b\b\b\b\b\b\b\b\b\b\b\b\b\b\b\b\b\b\b\b\b\b\b\b\b\b\b\b\b\b\b\b\b\b\b\b\n"
     ]
    }
   ],
   "source": [
    "y_preds = model.predict(embedded_words)\n",
    "\n",
    "num_proposed_words = 5\n",
    "vocabulary_size = len(vocabulary)"
   ]
  },
  {
   "cell_type": "code",
   "execution_count": 13,
   "metadata": {},
   "outputs": [],
   "source": [
    "pwc_and_predicted = []\n",
    "\n",
    "for index in range(len(X_words)):\n",
    "    y_pred = y_preds[index]\n",
    "\n",
    "    predicted_indices = np.argsort(y_pred).reshape(vocabulary_size)[-num_proposed_words:]\n",
    "    probabilities = np.sort(y_pred).reshape(vocabulary_size)[-num_proposed_words:]\n",
    "\n",
    "    predicted_probability = {vocabulary[index]: prob for index, prob in zip(predicted_indices, probabilities)}\n",
    "    \n",
    "    pwc_and_predicted.append((X_words[index], y_words[index], predicted_probability))"
   ]
  },
  {
   "cell_type": "code",
   "execution_count": 14,
   "metadata": {},
   "outputs": [
    {
     "name": "stdout",
     "output_type": "stream",
     "text": [
      "the favorite film...\n",
      "PREDICTED:\n",
      "                        but: 73%\n",
      "                         to: 75%\n",
      "                        and: 83%\n",
      "                         of: 88%\n",
      "                          i: 89%\n",
      "\n",
      "favorite film of...\n",
      "PREDICTED:\n",
      "                         it: 75%\n",
      "                       this: 76%\n",
      "                          a: 83%\n",
      "                        and: 85%\n",
      "                        the: 94%\n",
      "\n",
      "film of the...\n",
      "PREDICTED:\n",
      "                          i: 48%\n",
      "                         is: 48%\n",
      "                         in: 49%\n",
      "                        the: 73%\n",
      "                        and: 76%\n",
      "\n",
      "actually more important...\n",
      "PREDICTED:\n",
      "                     things: 54%\n",
      "                       than: 56%\n",
      "                        and: 70%\n",
      "                      films: 71%\n",
      "                     movies: 79%\n",
      "\n",
      "more important than...\n",
      "PREDICTED:\n",
      "                        you: 75%\n",
      "                          a: 86%\n",
      "                         it: 87%\n",
      "                       this: 89%\n",
      "                        the: 93%\n",
      "\n"
     ]
    }
   ],
   "source": [
    "pwc_and_predicted_sample = pwc_and_predicted[:5]\n",
    "\n",
    "for tokens, _, predicted_words in pwc_and_predicted_sample:\n",
    "    text = \" \".join(tokens)\n",
    "\n",
    "    print(text + \"...\")\n",
    "    print(\"PREDICTED:\")\n",
    "\n",
    "    for word, probability in predicted_words.items():\n",
    "        print(\"       {: >20}: {}%\".format(word, int(probability*100)))\n",
    "\n",
    "    print()"
   ]
  }
 ],
 "metadata": {
  "kernelspec": {
   "display_name": "nlp",
   "language": "python",
   "name": "python3"
  },
  "language_info": {
   "codemirror_mode": {
    "name": "ipython",
    "version": 3
   },
   "file_extension": ".py",
   "mimetype": "text/x-python",
   "name": "python",
   "nbconvert_exporter": "python",
   "pygments_lexer": "ipython3",
   "version": "3.9.16"
  },
  "orig_nbformat": 4
 },
 "nbformat": 4,
 "nbformat_minor": 2
}
