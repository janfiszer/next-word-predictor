{
 "cells": [
  {
   "cell_type": "code",
   "execution_count": 1,
   "metadata": {},
   "outputs": [],
   "source": [
    "import config\n",
    "import pandas as pd\n",
    "import os\n",
    "import pickle\n",
    "\n",
    "from gensim.models import Word2Vec"
   ]
  },
  {
   "cell_type": "code",
   "execution_count": 2,
   "metadata": {},
   "outputs": [],
   "source": [
    "data_path = \"data/reviews_cleaned.csv\"\n",
    "\n",
    "reviews_df = pd.read_csv(data_path, converters={'tokenized': pd.eval})"
   ]
  },
  {
   "cell_type": "code",
   "execution_count": 3,
   "metadata": {},
   "outputs": [],
   "source": [
    "word2vec = Word2Vec(reviews_df.tokenized, min_count=config.WORD2VEC_MIN_COUNT, window=config.WINDOW, vector_size=config.VECTOR_SIZE)"
   ]
  },
  {
   "attachments": {},
   "cell_type": "markdown",
   "metadata": {},
   "source": [
    "# Quick verification"
   ]
  },
  {
   "cell_type": "code",
   "execution_count": 4,
   "metadata": {},
   "outputs": [
    {
     "data": {
      "text/plain": [
       "[('bad', 0.7058460116386414),\n",
       " ('great', 0.7057995200157166),\n",
       " ('decent', 0.6640779376029968),\n",
       " ('cool', 0.6059849262237549),\n",
       " ('funny', 0.5673084855079651),\n",
       " ('fine', 0.5446793437004089),\n",
       " ('ok', 0.5419350266456604),\n",
       " ('nice', 0.5375111699104309),\n",
       " ('perfect', 0.5176261067390442),\n",
       " ('scary', 0.512596607208252)]"
      ]
     },
     "execution_count": 4,
     "metadata": {},
     "output_type": "execute_result"
    }
   ],
   "source": [
    "word2vec.wv.similar_by_word(\"good\")"
   ]
  },
  {
   "cell_type": "code",
   "execution_count": 5,
   "metadata": {},
   "outputs": [
    {
     "data": {
      "text/plain": [
       "[('film', 0.8441914916038513),\n",
       " ('flick', 0.6873407363891602),\n",
       " ('it', 0.6229417324066162),\n",
       " ('sequel', 0.6037997007369995),\n",
       " ('show', 0.5853254795074463),\n",
       " ('crap', 0.5444120168685913),\n",
       " ('movies', 0.5357815027236938),\n",
       " ('mess', 0.5101011395454407),\n",
       " ('documentary', 0.49684080481529236),\n",
       " ('episode', 0.4940302073955536)]"
      ]
     },
     "execution_count": 5,
     "metadata": {},
     "output_type": "execute_result"
    }
   ],
   "source": [
    "word2vec.wv.similar_by_word(\"movie\")"
   ]
  },
  {
   "attachments": {},
   "cell_type": "markdown",
   "metadata": {},
   "source": [
    "# Pickle dumping"
   ]
  },
  {
   "cell_type": "code",
   "execution_count": 6,
   "metadata": {},
   "outputs": [],
   "source": [
    "with open(os.path.join(config.BASE_DIR, \"word2vec-big-dataset.pkl\"), 'wb') as file:\n",
    "    pickle.dump(word2vec, file)"
   ]
  }
 ],
 "metadata": {
  "kernelspec": {
   "display_name": "nlp",
   "language": "python",
   "name": "python3"
  },
  "language_info": {
   "codemirror_mode": {
    "name": "ipython",
    "version": 3
   },
   "file_extension": ".py",
   "mimetype": "text/x-python",
   "name": "python",
   "nbconvert_exporter": "python",
   "pygments_lexer": "ipython3",
   "version": "3.9.16"
  },
  "orig_nbformat": 4
 },
 "nbformat": 4,
 "nbformat_minor": 2
}
