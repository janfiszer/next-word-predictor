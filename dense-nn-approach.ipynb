{
 "cells": [
  {
   "cell_type": "code",
   "execution_count": 2,
   "metadata": {},
   "outputs": [],
   "source": [
    "# essentials\n",
    "import matplotlib.pyplot as plt\n",
    "import numpy as np\n",
    "import pandas as pd\n",
    "import os \n",
    "from collections import Counter\n",
    "import pickle\n",
    "\n",
    "## Dense NN\n",
    "import tensorflow as tf\n",
    "from keras.models import Sequential\n",
    "from keras.layers import Dense, Input, Dropout\n",
    "\n",
    "# train test split \n",
    "from sklearn.model_selection import train_test_split\n",
    "\n",
    "# my files\n",
    "import config\n",
    "from utils.DataGenerator import DataGenerator"
   ]
  },
  {
   "cell_type": "code",
   "execution_count": 3,
   "metadata": {},
   "outputs": [],
   "source": [
    "small_data = True\n",
    "seed = 42"
   ]
  },
  {
   "cell_type": "code",
   "execution_count": 4,
   "metadata": {},
   "outputs": [
    {
     "name": "stdout",
     "output_type": "stream",
     "text": [
      "WARNING: You will may overwrite your models, because directory \"models/word2vecs/pwc3-win7-vec200-min20/\" already exists.\n"
     ]
    }
   ],
   "source": [
    "try:\n",
    "    os.makedirs(config.NN_MODEL_DIR)\n",
    "except(FileExistsError):\n",
    "    print(f\"WARNING: You will may overwrite your models, because directory \\\"{config.NN_MODEL_DIR}\\\" already exists.\")"
   ]
  },
  {
   "cell_type": "markdown",
   "metadata": {},
   "source": [
    "## Load the data"
   ]
  },
  {
   "cell_type": "code",
   "execution_count": 5,
   "metadata": {},
   "outputs": [],
   "source": [
    "if small_data:\n",
    "    data_path = \"data/reviews_cleaned_sample.csv\"\n",
    "    vocabulary_filename = \"vocabulary_small.pkl\"\n",
    "else:\n",
    "    data_path = \"data/reviews_cleaned.csv\"\n",
    "    vocabulary_filename = \"vocabulary.pkl\"\n",
    "\n",
    "reviews_df = pd.read_csv(data_path, converters={'tokenized': pd.eval})"
   ]
  },
  {
   "cell_type": "markdown",
   "metadata": {},
   "source": [
    "Since I am using the whole dataset to create word2vec I can use the same one every time, regardless to the sample I take to train the NN"
   ]
  },
  {
   "cell_type": "code",
   "execution_count": 6,
   "metadata": {},
   "outputs": [],
   "source": [
    "with open(\"models/word2vec-general.pkl\", \"rb\") as file:\n",
    "    word2vec = pickle.load(file)"
   ]
  },
  {
   "cell_type": "markdown",
   "metadata": {},
   "source": [
    "## Creating the dataset"
   ]
  },
  {
   "cell_type": "code",
   "execution_count": 7,
   "metadata": {},
   "outputs": [],
   "source": [
    "data_generator = DataGenerator(reviews_df.tokenized)"
   ]
  },
  {
   "cell_type": "code",
   "execution_count": 8,
   "metadata": {},
   "outputs": [],
   "source": [
    "data_generator.create_vocabulary(min_count=config.VOCAB_MIN_COUNT, extra_tokens=[config.END_TOKEN])\n",
    "vocabulary_size = len(data_generator.vocabulary)"
   ]
  },
  {
   "cell_type": "code",
   "execution_count": 9,
   "metadata": {},
   "outputs": [],
   "source": [
    "X_words, y_words = data_generator.create_dataset(previous_words_considered=config.PREVIOUS_WORDS_CONSIDERED)"
   ]
  },
  {
   "cell_type": "code",
   "execution_count": 14,
   "metadata": {},
   "outputs": [],
   "source": [
    "X = data_generator.vectorize(X_words, word_fievectorizer=word2vec, input_size=config.INPUT_SIZE)"
   ]
  },
  {
   "cell_type": "code",
   "execution_count": 15,
   "metadata": {},
   "outputs": [],
   "source": [
    "# one hot the labels\n",
    "label_to_index = {word: index for index, word in enumerate(data_generator.vocabulary)}\n",
    "\n",
    "y = np.zeros((len(y_words), len(data_generator.vocabulary)))\n",
    "\n",
    "# instead of using for example to_categorical from tensorflow\n",
    "# to make it more efficient \n",
    "for index, label in enumerate(y_words):\n",
    "    y[index, label_to_index[label]] += 1"
   ]
  },
  {
   "cell_type": "code",
   "execution_count": 16,
   "metadata": {},
   "outputs": [],
   "source": [
    "X_train, X_test, y_train, y_test = train_test_split(X, y, test_size=0.1, shuffle=True, random_state=seed)"
   ]
  },
  {
   "cell_type": "markdown",
   "metadata": {},
   "source": [
    "## Dense NN model"
   ]
  },
  {
   "cell_type": "code",
   "execution_count": 17,
   "metadata": {},
   "outputs": [
    {
     "name": "stdout",
     "output_type": "stream",
     "text": [
      "Model: \"sequential\"\n",
      "_________________________________________________________________\n",
      " Layer (type)                Output Shape              Param #   \n",
      "=================================================================\n",
      " dense (Dense)               (None, 1024)              615424    \n",
      "                                                                 \n",
      " dense_1 (Dense)             (None, 512)               524800    \n",
      "                                                                 \n",
      " dropout (Dropout)           (None, 512)               0         \n",
      "                                                                 \n",
      " dense_2 (Dense)             (None, 256)               131328    \n",
      "                                                                 \n",
      " dropout_1 (Dropout)         (None, 256)               0         \n",
      "                                                                 \n",
      " dense_3 (Dense)             (None, 512)               131584    \n",
      "                                                                 \n",
      " dense_4 (Dense)             (None, 1046)              536598    \n",
      "                                                                 \n",
      "=================================================================\n",
      "Total params: 1,939,734\n",
      "Trainable params: 1,939,734\n",
      "Non-trainable params: 0\n",
      "_________________________________________________________________\n"
     ]
    }
   ],
   "source": [
    "model = Sequential()\n",
    "\n",
    "model.add(Input(config.INPUT_SIZE))\n",
    "model.add(Dense(1024, activation=\"relu\"))\n",
    "model.add(Dense(512, activation=\"relu\"))\n",
    "model.add(Dropout(0.5))\n",
    "model.add(Dense(256, activation=\"relu\"))\n",
    "model.add(Dropout(0.5))\n",
    "model.add(Dense(512, activation=\"relu\"))\n",
    "\n",
    "\n",
    "model.add(Dense(vocabulary_size, activation=\"sigmoid\"))\n",
    "\n",
    "model.build()\n",
    "\n",
    "model.summary()"
   ]
  },
  {
   "cell_type": "code",
   "execution_count": 18,
   "metadata": {},
   "outputs": [],
   "source": [
    "loss = tf.keras.losses.CategoricalCrossentropy(label_smoothing=config.LABEL_SMOOTHING_RATIO)\n",
    "optimizer = tf.keras.optimizers.Adam(learning_rate=config.LEARNING_RATE)"
   ]
  },
  {
   "cell_type": "code",
   "execution_count": 19,
   "metadata": {},
   "outputs": [],
   "source": [
    "model.compile(loss=loss, optimizer=optimizer, metrics=[\"acc\"])"
   ]
  },
  {
   "cell_type": "code",
   "execution_count": 20,
   "metadata": {},
   "outputs": [],
   "source": [
    "# patience and start_from_epochs depending on the epochs number\n",
    "# patience 10% of the total number of epochs\n",
    "# start_from_epochs 5% of the total number of epochs\n",
    "early_stopping = tf.keras.callbacks.EarlyStopping(monitor=\"val_loss\",\n",
    "                                                patience=int(config.EPOCHS*0.10), \n",
    "                                                start_from_epoch=(config.EPOCHS*0.05),\n",
    "                                                min_delta=0.001,\n",
    "                                                restore_best_weights=True,\n",
    "                                                verbose=1) "
   ]
  },
  {
   "cell_type": "code",
   "execution_count": 21,
   "metadata": {},
   "outputs": [
    {
     "name": "stdout",
     "output_type": "stream",
     "text": [
      "Epoch 1/64\n",
      "499/499 [==============================] - 14s 26ms/step - loss: 5.6335 - acc: 0.1045 - val_loss: 5.4469 - val_acc: 0.1335\n",
      "Epoch 2/64\n",
      "499/499 [==============================] - 14s 27ms/step - loss: 5.2374 - acc: 0.1396 - val_loss: 5.2023 - val_acc: 0.1459\n",
      "Epoch 3/64\n",
      "499/499 [==============================] - 14s 28ms/step - loss: 5.0820 - acc: 0.1503 - val_loss: 5.1072 - val_acc: 0.1555\n",
      "Epoch 4/64\n",
      "499/499 [==============================] - 14s 29ms/step - loss: 4.9890 - acc: 0.1575 - val_loss: 5.0302 - val_acc: 0.1619\n",
      "Epoch 5/64\n",
      "499/499 [==============================] - 14s 27ms/step - loss: 4.9196 - acc: 0.1648 - val_loss: 4.9922 - val_acc: 0.1642\n",
      "Epoch 6/64\n",
      "499/499 [==============================] - 14s 28ms/step - loss: 4.8618 - acc: 0.1726 - val_loss: 4.9513 - val_acc: 0.1707\n",
      "Epoch 7/64\n",
      "499/499 [==============================] - 14s 28ms/step - loss: 4.8071 - acc: 0.1779 - val_loss: 4.9432 - val_acc: 0.1691\n",
      "Epoch 8/64\n",
      "499/499 [==============================] - 14s 28ms/step - loss: 4.7622 - acc: 0.1832 - val_loss: 4.9205 - val_acc: 0.1715\n",
      "Epoch 9/64\n",
      "499/499 [==============================] - 14s 28ms/step - loss: 4.7165 - acc: 0.1891 - val_loss: 4.8962 - val_acc: 0.1731\n",
      "Epoch 10/64\n",
      "499/499 [==============================] - 14s 28ms/step - loss: 4.6714 - acc: 0.1929 - val_loss: 4.9028 - val_acc: 0.1753\n",
      "Epoch 11/64\n",
      "499/499 [==============================] - 15s 30ms/step - loss: 4.6355 - acc: 0.1968 - val_loss: 4.9020 - val_acc: 0.1752\n",
      "Epoch 12/64\n",
      "499/499 [==============================] - 15s 30ms/step - loss: 4.5968 - acc: 0.2013 - val_loss: 4.8940 - val_acc: 0.1724\n",
      "Epoch 13/64\n",
      "499/499 [==============================] - 14s 29ms/step - loss: 4.5617 - acc: 0.2074 - val_loss: 4.8976 - val_acc: 0.1760\n",
      "Epoch 14/64\n",
      "499/499 [==============================] - 14s 29ms/step - loss: 4.5299 - acc: 0.2118 - val_loss: 4.9009 - val_acc: 0.1767\n",
      "Epoch 15/64\n",
      "499/499 [==============================] - 14s 29ms/step - loss: 4.4927 - acc: 0.2170 - val_loss: 4.9106 - val_acc: 0.1745\n",
      "Epoch 16/64\n",
      "499/499 [==============================] - 14s 29ms/step - loss: 4.4721 - acc: 0.2195 - val_loss: 4.9136 - val_acc: 0.1784\n",
      "Epoch 17/64\n",
      "499/499 [==============================] - 15s 29ms/step - loss: 4.4343 - acc: 0.2246 - val_loss: 4.9165 - val_acc: 0.1756\n",
      "Epoch 18/64\n",
      "499/499 [==============================] - ETA: 0s - loss: 4.4125 - acc: 0.2287Restoring model weights from the end of the best epoch: 12.\n",
      "499/499 [==============================] - 14s 29ms/step - loss: 4.4125 - acc: 0.2287 - val_loss: 4.9192 - val_acc: 0.1731\n",
      "Epoch 18: early stopping\n"
     ]
    }
   ],
   "source": [
    "training = model.fit(X_train, y_train, validation_split=0.1, batch_size=config.BATCH_SIZE, epochs=config.EPOCHS, callbacks=[early_stopping])"
   ]
  },
  {
   "cell_type": "code",
   "execution_count": 22,
   "metadata": {},
   "outputs": [
    {
     "name": "stdout",
     "output_type": "stream",
     "text": [
      "247/247 [==============================] - 2s 9ms/step - loss: 4.9122 - acc: 0.1689\n"
     ]
    }
   ],
   "source": [
    "loss, acc = model.evaluate(X_test, y_test)"
   ]
  },
  {
   "cell_type": "code",
   "execution_count": 23,
   "metadata": {},
   "outputs": [],
   "source": [
    "acc = int(acc * 100)\n",
    "model_filename = f\"dense-lr{config.LEARNING_RATE}-batch{config.BATCH_SIZE}-acc{acc}.h5\"\n",
    "\n",
    "model.save(os.path.join(config.NN_MODEL_DIR, model_filename))"
   ]
  },
  {
   "cell_type": "code",
   "execution_count": 24,
   "metadata": {},
   "outputs": [
    {
     "data": {
      "text/plain": [
       "[<matplotlib.lines.Line2D at 0x19dc2b68e50>]"
      ]
     },
     "execution_count": 24,
     "metadata": {},
     "output_type": "execute_result"
    },
    {
     "data": {
      "image/png": "[encoded data removed]",
      "text/plain": [
       "<Figure size 640x480 with 1 Axes>"
      ]
     },
     "metadata": {},
     "output_type": "display_data"
    }
   ],
   "source": [
    "# due to early stopping executed epochs might be different\n",
    "executed_epochs = len(training.history[\"loss\"])\n",
    "\n",
    "plt.plot(range(executed_epochs), training.history[\"loss\"])\n",
    "plt.plot(range(executed_epochs), training.history[\"val_loss\"])"
   ]
  }
 ],
 "metadata": {
  "kernelspec": {
   "display_name": "Python 3 (ipykernel)",
   "language": "python",
   "name": "python3"
  },
  "language_info": {
   "codemirror_mode": {
    "name": "ipython",
    "version": 3
   },
   "file_extension": ".py",
   "mimetype": "text/x-python",
   "name": "python",
   "nbconvert_exporter": "python",
   "pygments_lexer": "ipython3",
   "version": "3.9.16"
  }
 },
 "nbformat": 4,
 "nbformat_minor": 2
}
